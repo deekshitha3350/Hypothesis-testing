{
  "nbformat": 4,
  "nbformat_minor": 0,
  "metadata": {
    "colab": {
      "provenance": []
    },
    "kernelspec": {
      "name": "python3",
      "display_name": "Python 3"
    },
    "language_info": {
      "name": "python"
    }
  },
  "cells": [
    {
      "cell_type": "code",
      "execution_count": 4,
      "metadata": {
        "id": "Br5JqnfiT7Ch"
      },
      "outputs": [],
      "source": [
        "import math\n",
        "import scipy.stats as stats\n",
        "import numpy as np\n",
        "import matplotlib.pyplot as plt"
      ]
    },
    {
      "cell_type": "code",
      "source": [
        "sample_mean = 3050\n",
        "theoretical_mean = 4000\n",
        "sigma = 5 * 25\n",
        "n = 25\n",
        "alpha = 0.05"
      ],
      "metadata": {
        "id": "qGVgq8UoUJeZ"
      },
      "execution_count": 5,
      "outputs": []
    },
    {
      "cell_type": "code",
      "source": [
        "standard_error = sigma / math.sqrt(n)\n",
        "\n",
        "t_statistic = (sample_mean - theoretical_mean) / standard_error\n",
        "t_statistic"
      ],
      "metadata": {
        "colab": {
          "base_uri": "https://localhost:8080/"
        },
        "id": "wOqRUt5KUczc",
        "outputId": "5fb2cfa9-2268-4eea-81f5-cd65d24144e8"
      },
      "execution_count": 6,
      "outputs": [
        {
          "output_type": "execute_result",
          "data": {
            "text/plain": [
              "-38.0"
            ]
          },
          "metadata": {},
          "execution_count": 6
        }
      ]
    },
    {
      "cell_type": "code",
      "source": [
        "z_critical = stats.norm.ppf(1 - alpha)\n",
        "z_critical"
      ],
      "metadata": {
        "colab": {
          "base_uri": "https://localhost:8080/"
        },
        "id": "-8xQL2vmUp0h",
        "outputId": "411cc8ab-8afa-4e6b-aca3-65ba8c237aaf"
      },
      "execution_count": 7,
      "outputs": [
        {
          "output_type": "execute_result",
          "data": {
            "text/plain": [
              "1.6448536269514722"
            ]
          },
          "metadata": {},
          "execution_count": 7
        }
      ]
    },
    {
      "cell_type": "code",
      "source": [
        "if t_statistic > z_critical:\n",
        "    result = \"Reject the null hypothesis.\"\n",
        "    conclusion = \"There is strong evidence to support the claim that the weekly operating costs are higher than the model suggests.\"\n",
        "else:\n",
        "    result = \"Fail to reject the null hypothesis.\"\n",
        "    conclusion = \"There is not enough evidence to support the claim that the weekly operating costs are higher than the model suggests.\""
      ],
      "metadata": {
        "id": "5S7KeS-0VrXq"
      },
      "execution_count": 8,
      "outputs": []
    },
    {
      "cell_type": "code",
      "source": [
        "print(f\"Test Statistic (t): {t_statistic:.2f}\")\n",
        "print(f\"Critical Value (Z): {z_critical:.2f}\")\n",
        "print(result)\n",
        "print(conclusion)"
      ],
      "metadata": {
        "colab": {
          "base_uri": "https://localhost:8080/"
        },
        "id": "43wZX8vdVyp6",
        "outputId": "d5b121ea-cb40-45ca-d6c7-6b9bbbf259c8"
      },
      "execution_count": 9,
      "outputs": [
        {
          "output_type": "stream",
          "name": "stdout",
          "text": [
            "Test Statistic (t): -38.00\n",
            "Critical Value (Z): 1.64\n",
            "Fail to reject the null hypothesis.\n",
            "There is not enough evidence to support the claim that the weekly operating costs are higher than the model suggests.\n"
          ]
        }
      ]
    }
  ]
}